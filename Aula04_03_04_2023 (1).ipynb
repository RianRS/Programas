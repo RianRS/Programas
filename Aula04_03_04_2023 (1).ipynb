{
  "nbformat": 4,
  "nbformat_minor": 0,
  "metadata": {
    "colab": {
      "provenance": []
    },
    "kernelspec": {
      "name": "python3",
      "display_name": "Python 3"
    },
    "language_info": {
      "name": "python"
    }
  },
  "cells": [
    {
      "cell_type": "code",
      "execution_count": null,
      "metadata": {
        "colab": {
          "base_uri": "https://localhost:8080/"
        },
        "id": "70KKILK1EfBk",
        "outputId": "5fa4e44e-5e51-4199-efb9-e994e4da1a2e"
      },
      "outputs": [
        {
          "output_type": "execute_result",
          "data": {
            "text/plain": [
              "43"
            ]
          },
          "metadata": {},
          "execution_count": 1
        }
      ],
      "source": [
        "# criando a lista fam e acessando o maior valor dela\n",
        "fam = [17,26,27,43]\n",
        "max(fam)"
      ]
    },
    {
      "cell_type": "code",
      "source": [
        "# arredondando um valor para a casa decimal mais próxima\n",
        "round(1.68,1)"
      ],
      "metadata": {
        "colab": {
          "base_uri": "https://localhost:8080/"
        },
        "id": "4TABuUS5Eo3D",
        "outputId": "31939094-1fa3-4f4c-e6fb-173d322f8f35"
      },
      "execution_count": null,
      "outputs": [
        {
          "output_type": "execute_result",
          "data": {
            "text/plain": [
              "1.7"
            ]
          },
          "metadata": {},
          "execution_count": 5
        }
      ]
    },
    {
      "cell_type": "code",
      "source": [
        "# arredondando um valor para o sucessor do número inteiro\n",
        "round(1.68)"
      ],
      "metadata": {
        "colab": {
          "base_uri": "https://localhost:8080/"
        },
        "id": "HfDHGDf1Fb0S",
        "outputId": "559450fd-e149-4769-8215-2234bba006ac"
      },
      "execution_count": null,
      "outputs": [
        {
          "output_type": "execute_result",
          "data": {
            "text/plain": [
              "2"
            ]
          },
          "metadata": {},
          "execution_count": 7
        }
      ]
    },
    {
      "cell_type": "code",
      "source": [
        "# usando o comando help para entender outros comandos\n",
        "help(round)"
      ],
      "metadata": {
        "colab": {
          "base_uri": "https://localhost:8080/"
        },
        "id": "sdSJHsPQFhZC",
        "outputId": "8ba0fcea-3ed0-4511-9af2-8c339f2c3256"
      },
      "execution_count": null,
      "outputs": [
        {
          "output_type": "stream",
          "name": "stdout",
          "text": [
            "Help on built-in function round in module builtins:\n",
            "\n",
            "round(number, ndigits=None)\n",
            "    Round a number to a given precision in decimal digits.\n",
            "    \n",
            "    The return value is an integer if ndigits is omitted or None.  Otherwise\n",
            "    the return value has the same type as the number.  ndigits may be negative.\n",
            "\n"
          ]
        }
      ]
    },
    {
      "cell_type": "code",
      "source": [
        "help(max)"
      ],
      "metadata": {
        "colab": {
          "base_uri": "https://localhost:8080/"
        },
        "id": "7NBPfT05FsUa",
        "outputId": "5deb0ec1-0c7c-4da2-ef6a-305179e25110"
      },
      "execution_count": null,
      "outputs": [
        {
          "output_type": "stream",
          "name": "stdout",
          "text": [
            "Help on built-in function max in module builtins:\n",
            "\n",
            "max(...)\n",
            "    max(iterable, *[, default=obj, key=func]) -> value\n",
            "    max(arg1, arg2, *args, *[, key=func]) -> value\n",
            "    \n",
            "    With a single iterable argument, return its biggest item. The\n",
            "    default keyword-only argument specifies an object to return if\n",
            "    the provided iterable is empty.\n",
            "    With two or more arguments, return the largest argument.\n",
            "\n"
          ]
        }
      ]
    },
    {
      "cell_type": "code",
      "source": [
        "# crie as variaveis var1 e var2\n",
        "var1 = [1,2,3,4]\n",
        "var2 = True\n",
        "# tipo da variavel var1\n",
        "type(var1)"
      ],
      "metadata": {
        "colab": {
          "base_uri": "https://localhost:8080/"
        },
        "id": "51OuWviwFu5K",
        "outputId": "98f6743b-3754-4590-80e6-2c7da54d13e3"
      },
      "execution_count": null,
      "outputs": [
        {
          "output_type": "execute_result",
          "data": {
            "text/plain": [
              "list"
            ]
          },
          "metadata": {},
          "execution_count": 3
        }
      ]
    },
    {
      "cell_type": "code",
      "source": [
        "# usando o comando len para saber quantos elementos existem na estrutura\n",
        "len(var1)"
      ],
      "metadata": {
        "colab": {
          "base_uri": "https://localhost:8080/"
        },
        "id": "TxzITxF_GiPL",
        "outputId": "1d56bf88-1978-482d-e773-01310d89e25f"
      },
      "execution_count": null,
      "outputs": [
        {
          "output_type": "execute_result",
          "data": {
            "text/plain": [
              "4"
            ]
          },
          "metadata": {},
          "execution_count": 12
        }
      ]
    },
    {
      "cell_type": "code",
      "source": [
        "# \n",
        "out2 = int(var2)\n",
        "out2"
      ],
      "metadata": {
        "colab": {
          "base_uri": "https://localhost:8080/"
        },
        "id": "ikTEinAgGrfS",
        "outputId": "31538b25-7ac2-40c5-a916-c96adfa89d3f"
      },
      "execution_count": null,
      "outputs": [
        {
          "output_type": "execute_result",
          "data": {
            "text/plain": [
              "1"
            ]
          },
          "metadata": {},
          "execution_count": 14
        }
      ]
    },
    {
      "cell_type": "code",
      "source": [
        "# crie listas com nome first e second\n",
        "first = [11.25, 18, 20]\n",
        "second = [10.75, 9.5]"
      ],
      "metadata": {
        "id": "T0DTHZ6sG2YK"
      },
      "execution_count": null,
      "outputs": []
    },
    {
      "cell_type": "code",
      "source": [
        "# concatenando duas listas\n",
        "full = first + second\n",
        "full"
      ],
      "metadata": {
        "colab": {
          "base_uri": "https://localhost:8080/"
        },
        "id": "a7d8MPJFIqLR",
        "outputId": "015c01da-5ec4-4929-ffca-da341c178362"
      },
      "execution_count": null,
      "outputs": [
        {
          "output_type": "execute_result",
          "data": {
            "text/plain": [
              "[11.25, 18, 20, 10.75, 9.5]"
            ]
          },
          "metadata": {},
          "execution_count": 17
        }
      ]
    },
    {
      "cell_type": "code",
      "source": [
        "# organizando a lista em ordem crescente\n",
        "full_sorted = sorted(full)\n",
        "full_sorted"
      ],
      "metadata": {
        "colab": {
          "base_uri": "https://localhost:8080/"
        },
        "id": "Moprx2YhIxMx",
        "outputId": "81ac046e-6603-49c9-f05d-f95aaebb114f"
      },
      "execution_count": null,
      "outputs": [
        {
          "output_type": "execute_result",
          "data": {
            "text/plain": [
              "[9.5, 10.75, 11.25, 18, 20]"
            ]
          },
          "metadata": {},
          "execution_count": 30
        }
      ]
    },
    {
      "cell_type": "code",
      "source": [
        "# organizando a lista em ordem decrescente\n",
        "full_sorted = sorted(full,reverse=True)\n",
        "full_sorted"
      ],
      "metadata": {
        "colab": {
          "base_uri": "https://localhost:8080/"
        },
        "id": "6bWJlnPkJB9i",
        "outputId": "583f1f4d-e3bc-4339-96fa-51e6712fbe43"
      },
      "execution_count": null,
      "outputs": [
        {
          "output_type": "execute_result",
          "data": {
            "text/plain": [
              "[20, 18, 11.25, 10.75, 9.5]"
            ]
          },
          "metadata": {},
          "execution_count": 31
        }
      ]
    },
    {
      "cell_type": "code",
      "source": [
        "# descobrindo o index de um elemento da lista fam\n",
        "fam = ['Rian', 26,'Paulo', 26, 'Daiane', 26, 'Socorro', 43]\n",
        "fam.index('Socorro')"
      ],
      "metadata": {
        "colab": {
          "base_uri": "https://localhost:8080/"
        },
        "id": "faZFszMfJSNK",
        "outputId": "ff84ebe3-f94a-4b06-f94b-8c4980777ca8"
      },
      "execution_count": null,
      "outputs": [
        {
          "output_type": "execute_result",
          "data": {
            "text/plain": [
              "6"
            ]
          },
          "metadata": {},
          "execution_count": 57
        }
      ]
    },
    {
      "cell_type": "code",
      "source": [
        "# exibindo quantos vezes o index 26 aparece\n",
        "fam.count(26)"
      ],
      "metadata": {
        "colab": {
          "base_uri": "https://localhost:8080/"
        },
        "id": "Z09bF1OeLWw6",
        "outputId": "0c62f83f-e6b3-4290-e2a7-2d3ad46c3303"
      },
      "execution_count": null,
      "outputs": [
        {
          "output_type": "execute_result",
          "data": {
            "text/plain": [
              "3"
            ]
          },
          "metadata": {},
          "execution_count": 58
        }
      ]
    },
    {
      "cell_type": "code",
      "source": [
        "# adicionando elementos na lista fam com o comando append\n",
        "fam.append('Alyne')\n",
        "fam"
      ],
      "metadata": {
        "colab": {
          "base_uri": "https://localhost:8080/"
        },
        "id": "SY2TpeGRNuKy",
        "outputId": "04c6dbe8-0b82-4e45-9106-27dbf2dd2086"
      },
      "execution_count": null,
      "outputs": [
        {
          "output_type": "execute_result",
          "data": {
            "text/plain": [
              "['Rian', 26, 'Paulo', 26, 'Daiane', 26, 'Socorro', 43, 'Alyne']"
            ]
          },
          "metadata": {},
          "execution_count": 65
        }
      ]
    },
    {
      "cell_type": "code",
      "source": [
        "fam.append(31)\n",
        "fam"
      ],
      "metadata": {
        "colab": {
          "base_uri": "https://localhost:8080/"
        },
        "id": "pEFSclYQOA8y",
        "outputId": "bd9fc5c0-4ee7-42a7-9551-3e574d6669a2"
      },
      "execution_count": null,
      "outputs": [
        {
          "output_type": "execute_result",
          "data": {
            "text/plain": [
              "['Rian', 26, 'Paulo', 26, 'Daiane', 26, 'Socorro', 43, 'Alyne', 31]"
            ]
          },
          "metadata": {},
          "execution_count": 71
        }
      ]
    },
    {
      "cell_type": "code",
      "source": [
        "# usando o comando capitalize para deixar a primeira letra maiúscula\n",
        "sister = 'liz'\n",
        "sister.capitalize()"
      ],
      "metadata": {
        "colab": {
          "base_uri": "https://localhost:8080/",
          "height": 35
        },
        "id": "Ilu_3gzbOShK",
        "outputId": "e3b8e3db-daee-4056-931c-2b201b868fc6"
      },
      "execution_count": null,
      "outputs": [
        {
          "output_type": "execute_result",
          "data": {
            "text/plain": [
              "'Liz'"
            ],
            "application/vnd.google.colaboratory.intrinsic+json": {
              "type": "string"
            }
          },
          "metadata": {},
          "execution_count": 75
        }
      ]
    },
    {
      "cell_type": "code",
      "source": [
        "# substituindo letras de um elemento\n",
        "sister.replace('z','sa')"
      ],
      "metadata": {
        "colab": {
          "base_uri": "https://localhost:8080/",
          "height": 35
        },
        "id": "bu9RCadjOqjj",
        "outputId": "291de06a-cd0b-403c-baac-7dd17ca53de8"
      },
      "execution_count": null,
      "outputs": [
        {
          "output_type": "execute_result",
          "data": {
            "text/plain": [
              "'lisa'"
            ],
            "application/vnd.google.colaboratory.intrinsic+json": {
              "type": "string"
            }
          },
          "metadata": {},
          "execution_count": 76
        }
      ]
    },
    {
      "cell_type": "code",
      "source": [
        "# usando o comando upper para colocar todas as letras em capslock\n",
        "place = 'poolhouse'\n",
        "place_up = place.upper()\n",
        "place"
      ],
      "metadata": {
        "id": "B2cU01fbPAFh",
        "colab": {
          "base_uri": "https://localhost:8080/",
          "height": 35
        },
        "outputId": "c239681f-0ef5-4bc2-d415-faa8fcde1690"
      },
      "execution_count": null,
      "outputs": [
        {
          "output_type": "execute_result",
          "data": {
            "text/plain": [
              "'poolhouse'"
            ],
            "application/vnd.google.colaboratory.intrinsic+json": {
              "type": "string"
            }
          },
          "metadata": {},
          "execution_count": 84
        }
      ]
    },
    {
      "cell_type": "code",
      "source": [
        "place_up"
      ],
      "metadata": {
        "id": "y8XSZBDtPo-K",
        "colab": {
          "base_uri": "https://localhost:8080/",
          "height": 35
        },
        "outputId": "ac222a9e-5931-4c87-ccd4-67911cabe0c7"
      },
      "execution_count": null,
      "outputs": [
        {
          "output_type": "execute_result",
          "data": {
            "text/plain": [
              "'POOLHOUSE'"
            ],
            "application/vnd.google.colaboratory.intrinsic+json": {
              "type": "string"
            }
          },
          "metadata": {},
          "execution_count": 85
        }
      ]
    },
    {
      "cell_type": "code",
      "source": [
        "# exibindo quantos vezes a str \"o\" aparece\n",
        "place.count('o')"
      ],
      "metadata": {
        "id": "6BFe_saXQGiM",
        "colab": {
          "base_uri": "https://localhost:8080/"
        },
        "outputId": "e4ecb878-da6a-40f5-97d4-e1851f5e83fa"
      },
      "execution_count": null,
      "outputs": [
        {
          "output_type": "execute_result",
          "data": {
            "text/plain": [
              "3"
            ]
          },
          "metadata": {},
          "execution_count": 86
        }
      ]
    },
    {
      "cell_type": "code",
      "source": [
        "# crie a lista areas\n",
        "areas = [11.25, 18, 20, 10.75, 9.5]\n",
        "# print o index que contém o número 20 com o método index\n",
        "print(areas[2])"
      ],
      "metadata": {
        "id": "VrHcirEPQpPC",
        "colab": {
          "base_uri": "https://localhost:8080/"
        },
        "outputId": "03560dc8-bdf2-4557-8134-2f4f8c488c03"
      },
      "execution_count": null,
      "outputs": [
        {
          "output_type": "stream",
          "name": "stdout",
          "text": [
            "20\n"
          ]
        }
      ]
    },
    {
      "cell_type": "code",
      "source": [
        "# Usando o método count(), mostre via print o numero de vezes que 9.5 aparece na lista.\n",
        "areas.count(9.5)"
      ],
      "metadata": {
        "colab": {
          "base_uri": "https://localhost:8080/"
        },
        "id": "1BoG7v6DiPDw",
        "outputId": "e40d519e-0d48-4580-8001-99db5e4e38ea"
      },
      "execution_count": null,
      "outputs": [
        {
          "output_type": "execute_result",
          "data": {
            "text/plain": [
              "1"
            ]
          },
          "metadata": {},
          "execution_count": 2
        }
      ]
    },
    {
      "cell_type": "code",
      "source": [
        "# Na linha 7 use o método append() duas vezes para incluir os números 24.5 e 15.25 no fim da lista.\n",
        "areas.append(24.5)\n",
        "areas.append(15.25)\n",
        "areas"
      ],
      "metadata": {
        "colab": {
          "base_uri": "https://localhost:8080/"
        },
        "id": "nvURmh-ZjMld",
        "outputId": "b31dd1e1-433c-4327-8df9-d7c043752e9c"
      },
      "execution_count": null,
      "outputs": [
        {
          "output_type": "execute_result",
          "data": {
            "text/plain": [
              "[11.25, 18, 20, 10.75, 9.5, 24.5, 15.25]"
            ]
          },
          "metadata": {},
          "execution_count": 20
        }
      ]
    },
    {
      "cell_type": "code",
      "source": [
        "# Use o método reverse() da lista para trocar a ordem dos elementos da lista.\n",
        "sorted(areas, reverse=True)"
      ],
      "metadata": {
        "colab": {
          "base_uri": "https://localhost:8080/"
        },
        "id": "JT57V83cj_ib",
        "outputId": "d6af93e6-2b19-44a7-e154-a4ebd83a6bcd"
      },
      "execution_count": null,
      "outputs": [
        {
          "output_type": "execute_result",
          "data": {
            "text/plain": [
              "[24.5, 20, 18, 15.25, 11.25, 10.75, 9.5]"
            ]
          },
          "metadata": {},
          "execution_count": 23
        }
      ]
    }
  ]
}