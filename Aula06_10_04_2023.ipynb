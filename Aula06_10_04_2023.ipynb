{
  "nbformat": 4,
  "nbformat_minor": 0,
  "metadata": {
    "colab": {
      "provenance": []
    },
    "kernelspec": {
      "name": "python3",
      "display_name": "Python 3"
    },
    "language_info": {
      "name": "python"
    }
  },
  "cells": [
    {
      "cell_type": "code",
      "source": [
        "# importando a biblioteca numpy e importando numpy para np\n",
        "import numpy"
      ],
      "metadata": {
        "id": "fkt5302oEbHS"
      },
      "execution_count": null,
      "outputs": []
    },
    {
      "cell_type": "code",
      "source": [
        "import numpy as np"
      ],
      "metadata": {
        "id": "CVl-U8zKEh-J"
      },
      "execution_count": null,
      "outputs": []
    },
    {
      "cell_type": "code",
      "source": [
        "# criando um array 2d (possui linhas e colunas, como uma matriz)\n",
        "np_2d = np.array([[1.73, 1.68, 1.71, 1.89, 1.79],\n",
        "                  [65.4, 59.2, 63.6, 88.4, 68.7],\n",
        "                  [22.3, 42.7, 11.8, 90.5, 36.3]])\n",
        "np_2d"
      ],
      "metadata": {
        "colab": {
          "base_uri": "https://localhost:8080/"
        },
        "id": "gzNXH0gXEpu4",
        "outputId": "778f53e9-344d-48f4-f479-2302285d4527"
      },
      "execution_count": null,
      "outputs": [
        {
          "output_type": "execute_result",
          "data": {
            "text/plain": [
              "array([[ 1.73,  1.68,  1.71,  1.89,  1.79],\n",
              "       [65.4 , 59.2 , 63.6 , 88.4 , 68.7 ],\n",
              "       [22.3 , 42.7 , 11.8 , 90.5 , 36.3 ]])"
            ]
          },
          "metadata": {},
          "execution_count": 16
        }
      ]
    },
    {
      "cell_type": "code",
      "source": [
        "# exibindo a estrutura de np_2d\n",
        "np_2d.shape"
      ],
      "metadata": {
        "colab": {
          "base_uri": "https://localhost:8080/"
        },
        "id": "Pj7GOgbiEsoa",
        "outputId": "41b32f73-470b-4651-e0d9-1047402b428b"
      },
      "execution_count": null,
      "outputs": [
        {
          "output_type": "execute_result",
          "data": {
            "text/plain": [
              "(3, 5)"
            ]
          },
          "metadata": {},
          "execution_count": 17
        }
      ]
    },
    {
      "cell_type": "code",
      "source": [
        "# modificando um elemento int para str e assim alterando todos os outros\n",
        "np.array([[1.73, 1.68, 1.71, 1.89, 1.79],\n",
        "          [65.4, 59.2, 63.6, 88.4, '68.7' ]])"
      ],
      "metadata": {
        "colab": {
          "base_uri": "https://localhost:8080/"
        },
        "id": "mUBIvOdjEwnY",
        "outputId": "d7f0cd7a-7955-4d04-c6f6-38bba1c033c4"
      },
      "execution_count": null,
      "outputs": [
        {
          "output_type": "execute_result",
          "data": {
            "text/plain": [
              "array([['1.73', '1.68', '1.71', '1.89', '1.79'],\n",
              "       ['65.4', '59.2', '63.6', '88.4', '68.7']], dtype='<U32')"
            ]
          },
          "metadata": {},
          "execution_count": 8
        }
      ]
    },
    {
      "cell_type": "code",
      "source": [
        "# criando outro array matriz\n",
        "np = np.array([[1, 2, 3],\n",
        "              [4, 5, 6],\n",
        "              [7, 8, 9]])"
      ],
      "metadata": {
        "id": "xvAIQ7pbFBeg"
      },
      "execution_count": null,
      "outputs": []
    },
    {
      "cell_type": "code",
      "source": [
        "# exibindo a estrutura de np\n",
        "np.shape"
      ],
      "metadata": {
        "colab": {
          "base_uri": "https://localhost:8080/"
        },
        "id": "ACHJ_CYpHKpg",
        "outputId": "bed45ec1-589a-487f-a7ee-a82a7c304000"
      },
      "execution_count": null,
      "outputs": [
        {
          "output_type": "execute_result",
          "data": {
            "text/plain": [
              "(3, 3)"
            ]
          },
          "metadata": {},
          "execution_count": 26
        }
      ]
    },
    {
      "cell_type": "code",
      "source": [
        "# exibindo a primeira linha de np_2 \n",
        "np_2d[0]"
      ],
      "metadata": {
        "colab": {
          "base_uri": "https://localhost:8080/"
        },
        "id": "zgm13R6yHMmI",
        "outputId": "320828e7-524c-450a-e67e-909b592fd69d"
      },
      "execution_count": null,
      "outputs": [
        {
          "output_type": "execute_result",
          "data": {
            "text/plain": [
              "array([1.73, 1.68, 1.71, 1.89, 1.79])"
            ]
          },
          "metadata": {},
          "execution_count": 28
        }
      ]
    },
    {
      "cell_type": "code",
      "source": [
        "# exibindo o valor da primeira linha e terceira coluna de np_2d\n",
        "np_2d[0,2]"
      ],
      "metadata": {
        "colab": {
          "base_uri": "https://localhost:8080/"
        },
        "id": "EvADJyBDILMQ",
        "outputId": "d8e7dbfd-4ac4-4fa9-ee48-74df0a4019a4"
      },
      "execution_count": null,
      "outputs": [
        {
          "output_type": "execute_result",
          "data": {
            "text/plain": [
              "1.71"
            ]
          },
          "metadata": {},
          "execution_count": 29
        }
      ]
    },
    {
      "cell_type": "code",
      "source": [
        "np_2d[0][2]"
      ],
      "metadata": {
        "colab": {
          "base_uri": "https://localhost:8080/"
        },
        "id": "aObJ1luVIU0o",
        "outputId": "6a33e140-53f3-4660-d44a-5f6de77bfb33"
      },
      "execution_count": null,
      "outputs": [
        {
          "output_type": "execute_result",
          "data": {
            "text/plain": [
              "1.71"
            ]
          },
          "metadata": {},
          "execution_count": 30
        }
      ]
    },
    {
      "cell_type": "code",
      "source": [
        "# exibindo todas as linhas, mas somente da segunda coluna até a última coluna\n",
        "np_2d [:, 1:3]"
      ],
      "metadata": {
        "colab": {
          "base_uri": "https://localhost:8080/"
        },
        "id": "gqwnbiOxIbWI",
        "outputId": "de27e558-92fa-4b37-9142-719291bd02b9"
      },
      "execution_count": null,
      "outputs": [
        {
          "output_type": "execute_result",
          "data": {
            "text/plain": [
              "array([[ 1.68,  1.71],\n",
              "       [59.2 , 63.6 ],\n",
              "       [42.7 , 11.8 ]])"
            ]
          },
          "metadata": {},
          "execution_count": 31
        }
      ]
    },
    {
      "cell_type": "code",
      "source": [
        "# exibindo apenas a primeira linha e todas as colunas que a pertecem  \n",
        "np_2d [1, :]"
      ],
      "metadata": {
        "colab": {
          "base_uri": "https://localhost:8080/"
        },
        "id": "-h89y0ITJFfQ",
        "outputId": "2ae7b65b-8f81-4f04-c56e-e8ef7eb952ba"
      },
      "execution_count": null,
      "outputs": [
        {
          "output_type": "execute_result",
          "data": {
            "text/plain": [
              "array([65.4, 59.2, 63.6, 88.4, 68.7])"
            ]
          },
          "metadata": {},
          "execution_count": 32
        }
      ]
    },
    {
      "cell_type": "code",
      "source": [
        "# crie uma lista chamada baseball\n",
        "baseball = [180, 215, 210, 210, 188, 176, 209, 200]\n",
        "import numpy as np\n",
        "# transforme a lista baseball em um array np_baseball\n",
        "np_baseball = np.array(baseball)\n",
        "type(np_baseball)"
      ],
      "metadata": {
        "colab": {
          "base_uri": "https://localhost:8080/"
        },
        "id": "ekixEzQ7JLRn",
        "outputId": "4839d596-3b3a-4dd1-d8f0-ec12de83b059"
      },
      "execution_count": null,
      "outputs": [
        {
          "output_type": "execute_result",
          "data": {
            "text/plain": [
              "numpy.ndarray"
            ]
          },
          "metadata": {},
          "execution_count": 65
        }
      ]
    },
    {
      "cell_type": "code",
      "source": [
        "# exiba a estrutura de np_baseball\n",
        "np_baseball.shape"
      ],
      "metadata": {
        "colab": {
          "base_uri": "https://localhost:8080/"
        },
        "id": "cN9wTQFDKDwC",
        "outputId": "def8569d-6621-4925-a5e9-9124fa1d3efa"
      },
      "execution_count": null,
      "outputs": [
        {
          "output_type": "execute_result",
          "data": {
            "text/plain": [
              "(8,)"
            ]
          },
          "metadata": {},
          "execution_count": 37
        }
      ]
    },
    {
      "cell_type": "code",
      "source": [
        "# importe a biblioteca random e importe random para rd\n",
        "import random\n",
        "import random as rd"
      ],
      "metadata": {
        "id": "d--gSMaTKIGv"
      },
      "execution_count": null,
      "outputs": []
    },
    {
      "cell_type": "code",
      "source": [
        "# geração de números entre 150 e 209\n",
        "height = range(150, 210)\n",
        "# geração de números entre 50 e 149\n",
        "weight = range(50, 150)\n",
        "# amostra randomica de 20 números de height\n",
        "height = rd.sample(height,20)\n",
        "# amostra randomica de 20 números de weight\n",
        "weight= rd.sample(weight,20)\n",
        "# converter height em array e normalizar multiplicando por 0.01\n",
        "height_array = np.array(height)*0.01\n",
        "# converter weight em array\n",
        "weight_array = np.array(weight)\n",
        "# calculo do bmi\n",
        "bmi = weight_array/height_array **2\n",
        "# verificando onde bmi é menor que 21\n",
        "light = [bmi<21]\n",
        "print(light)\n",
        "# exibição dos valores de bmi com valor menor que 21\n",
        "bmi[bmi<21]"
      ],
      "metadata": {
        "colab": {
          "base_uri": "https://localhost:8080/"
        },
        "id": "cJgHs_MmLSXf",
        "outputId": "d6cf13ce-e02d-416b-86b0-a0f6f81f1a86"
      },
      "execution_count": null,
      "outputs": [
        {
          "output_type": "stream",
          "name": "stdout",
          "text": [
            "[array([False,  True, False, False, False, False, False, False, False,\n",
            "       False, False, False,  True, False, False, False,  True, False,\n",
            "       False, False])]\n"
          ]
        },
        {
          "output_type": "execute_result",
          "data": {
            "text/plain": [
              "array([19.41568047, 17.57706869, 17.07678956])"
            ]
          },
          "metadata": {},
          "execution_count": 59
        }
      ]
    },
    {
      "cell_type": "code",
      "source": [
        "# print os elementos de weight_array do index 8 até o index 15, incluindo o 15\n",
        "print(weight_array[7:15])"
      ],
      "metadata": {
        "colab": {
          "base_uri": "https://localhost:8080/"
        },
        "id": "GwzdezbELiVG",
        "outputId": "661ad943-b51d-48f3-e5c8-6c6eadda357c"
      },
      "execution_count": null,
      "outputs": [
        {
          "output_type": "stream",
          "name": "stdout",
          "text": [
            "[114  92 131 139 122  52  76  66]\n"
          ]
        }
      ]
    },
    {
      "cell_type": "code",
      "source": [
        "# print os elementos de height_array do index 11 até o index 19, incluindo o 19\n",
        "print(height_array[10:19])"
      ],
      "metadata": {
        "colab": {
          "base_uri": "https://localhost:8080/"
        },
        "id": "qYxbYshcOM3_",
        "outputId": "d838e08f-7253-47ac-f179-b3ec50ca6b23"
      },
      "execution_count": null,
      "outputs": [
        {
          "output_type": "stream",
          "name": "stdout",
          "text": [
            "[1.52 2.07 1.72 1.5  1.56 2.03 1.89 1.75 1.51]\n"
          ]
        }
      ]
    },
    {
      "cell_type": "code",
      "source": [
        "# crie uma lista de listas chamada baseball\n",
        "baseball = [[180, 78.4],\n",
        "            [215, 102.7],\n",
        "            [210, 98.5],\n",
        "            [188, 75.2]]\n",
        "np_baseball = np.array(baseball)\n",
        "print(np_baseball[2])"
      ],
      "metadata": {
        "colab": {
          "base_uri": "https://localhost:8080/"
        },
        "id": "lCMvj1EMOZB1",
        "outputId": "8b8f530f-ea3f-46fb-fd4d-79da9b2ab045"
      },
      "execution_count": null,
      "outputs": [
        {
          "output_type": "stream",
          "name": "stdout",
          "text": [
            "[210.   98.5]\n"
          ]
        }
      ]
    },
    {
      "cell_type": "code",
      "source": [
        "# crie uma nova variável np_weight_lb que recebe toda a segunda coluna de np_baseball\n",
        "np_weight_lb = np_baseball[:, 1]\n",
        "np_weight_lb"
      ],
      "metadata": {
        "colab": {
          "base_uri": "https://localhost:8080/"
        },
        "id": "lZzUrj5QT_18",
        "outputId": "9ec1ed83-c328-4798-f398-99e95aeb6fcc"
      },
      "execution_count": null,
      "outputs": [
        {
          "output_type": "execute_result",
          "data": {
            "text/plain": [
              "array([ 78.4, 102.7,  98.5,  75.2])"
            ]
          },
          "metadata": {},
          "execution_count": 82
        }
      ]
    },
    {
      "cell_type": "code",
      "source": [
        "# print a primeira coluna da segunda linha de np_baseball na linha do código\n",
        "print(np_baseball[1,0])"
      ],
      "metadata": {
        "colab": {
          "base_uri": "https://localhost:8080/"
        },
        "id": "f72lX08jU5K0",
        "outputId": "887b99f9-124b-4446-8596-d97cfd390b49"
      },
      "execution_count": null,
      "outputs": [
        {
          "output_type": "stream",
          "name": "stdout",
          "text": [
            "215.0\n"
          ]
        }
      ]
    },
    {
      "cell_type": "code",
      "source": [
        "# calcule e exiba a média da primeira coluna de np_baseball\n",
        "np.mean(np_baseball[:,0])"
      ],
      "metadata": {
        "colab": {
          "base_uri": "https://localhost:8080/"
        },
        "id": "i5iGDOxiVxCG",
        "outputId": "df00be77-6857-441a-e7a8-4909a4b1ad91"
      },
      "execution_count": null,
      "outputs": [
        {
          "output_type": "execute_result",
          "data": {
            "text/plain": [
              "198.25"
            ]
          },
          "metadata": {},
          "execution_count": 84
        }
      ]
    },
    {
      "cell_type": "code",
      "source": [
        "# calcule e exiba a mediana da segunda linha de np_baseball\n",
        "np.median(np_baseball[1,:])"
      ],
      "metadata": {
        "colab": {
          "base_uri": "https://localhost:8080/"
        },
        "id": "2KGZCl3bWWcD",
        "outputId": "6bae6e6c-0138-4955-c5ef-f8bde29c7812"
      },
      "execution_count": null,
      "outputs": [
        {
          "output_type": "execute_result",
          "data": {
            "text/plain": [
              "158.85"
            ]
          },
          "metadata": {},
          "execution_count": 85
        }
      ]
    }
  ]
}