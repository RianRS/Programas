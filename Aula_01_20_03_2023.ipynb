{
  "nbformat": 4,
  "nbformat_minor": 0,
  "metadata": {
    "colab": {
      "provenance": []
    },
    "kernelspec": {
      "name": "python3",
      "display_name": "Python 3"
    },
    "language_info": {
      "name": "python"
    }
  },
  "cells": [
    {
      "cell_type": "code",
      "execution_count": 27,
      "metadata": {
        "id": "I8YMOL5KD4Fj",
        "colab": {
          "base_uri": "https://localhost:8080/"
        },
        "outputId": "6a973695-3cf5-48fb-9df8-9e1b28e8f6c0"
      },
      "outputs": [
        {
          "output_type": "stream",
          "name": "stdout",
          "text": [
            "1.79\n",
            "68.7\n"
          ]
        }
      ],
      "source": [
        "# atribuindo valores às variáveis\n",
        "height = 1.79\n",
        "weight = 68.7\n",
        "# mostrando as variáveis\n",
        "print(height)\n",
        "print(weight)"
      ]
    },
    {
      "cell_type": "code",
      "source": [
        "# realizando operações com números e variáveis\n",
        "print(68.7 / 1.79 ** 2)\n",
        "print(weight / height ** 2)\n",
        "# atribuindo o resultado anterior à variável bmi\n",
        "bmi = weight / height ** 2\n",
        "print(bmi)"
      ],
      "metadata": {
        "colab": {
          "base_uri": "https://localhost:8080/"
        },
        "id": "iPZQoZhDJXfw",
        "outputId": "7e51087e-6a6e-4f8f-a646-ae218f3822d6"
      },
      "execution_count": 24,
      "outputs": [
        {
          "output_type": "stream",
          "name": "stdout",
          "text": [
            "21.44127836209856\n",
            "21.44127836209856\n",
            "21.44127836209856\n"
          ]
        }
      ]
    },
    {
      "cell_type": "code",
      "source": [
        "# conhecendo o tipo da variável bmi\n",
        "type(bmi)"
      ],
      "metadata": {
        "colab": {
          "base_uri": "https://localhost:8080/"
        },
        "id": "AbeTb6eSMjSB",
        "outputId": "53fbd607-d710-4069-ac12-b395e3baccff"
      },
      "execution_count": 28,
      "outputs": [
        {
          "output_type": "execute_result",
          "data": {
            "text/plain": [
              "float"
            ]
          },
          "metadata": {},
          "execution_count": 28
        }
      ]
    },
    {
      "cell_type": "code",
      "source": [
        "day_of_week = 5"
      ],
      "metadata": {
        "id": "-hOsQXWeMmXC"
      },
      "execution_count": 7,
      "outputs": []
    },
    {
      "cell_type": "code",
      "source": [
        "# conhecendo o tipo da variável day_of_week\n",
        "type(day_of_week)"
      ],
      "metadata": {
        "colab": {
          "base_uri": "https://localhost:8080/"
        },
        "id": "kM8uB6KQMtWp",
        "outputId": "471f92d6-6db5-45c2-eebb-1ee082f71805"
      },
      "execution_count": 26,
      "outputs": [
        {
          "output_type": "execute_result",
          "data": {
            "text/plain": [
              "int"
            ]
          },
          "metadata": {},
          "execution_count": 26
        }
      ]
    },
    {
      "cell_type": "code",
      "source": [
        "# conhecendo o tipo das variáveis y e z\n",
        "x = \"body mass index\"\n",
        "y = 'this works too'\n",
        "type(y)"
      ],
      "metadata": {
        "colab": {
          "base_uri": "https://localhost:8080/"
        },
        "id": "cS3tvXmTNB54",
        "outputId": "70b6cce3-6f2b-4894-e9f6-28017673b054"
      },
      "execution_count": 25,
      "outputs": [
        {
          "output_type": "execute_result",
          "data": {
            "text/plain": [
              "str"
            ]
          },
          "metadata": {},
          "execution_count": 25
        }
      ]
    },
    {
      "cell_type": "code",
      "source": [
        "z = True\n",
        "type(z)"
      ],
      "metadata": {
        "colab": {
          "base_uri": "https://localhost:8080/"
        },
        "id": "t2mvrzRKNXs3",
        "outputId": "68b406fa-190e-40c0-8d78-523c54179ad6"
      },
      "execution_count": 19,
      "outputs": [
        {
          "output_type": "execute_result",
          "data": {
            "text/plain": [
              "bool"
            ]
          },
          "metadata": {},
          "execution_count": 19
        }
      ]
    },
    {
      "cell_type": "code",
      "source": [
        "# concatenando duas variáveis do tipo str\n",
        "a = 'alyson'\n",
        "b = ' the best'\n",
        "print(a + b)\n",
        "# somando duas variáveis do tipo int e float\n",
        "day_of_week + height\n",
        "print(day_of_week + height)"
      ],
      "metadata": {
        "id": "lroHHCi2Ogai",
        "colab": {
          "base_uri": "https://localhost:8080/"
        },
        "outputId": "87646023-5ba2-4e9c-8b1b-d33a2b4f0314"
      },
      "execution_count": 16,
      "outputs": [
        {
          "output_type": "stream",
          "name": "stdout",
          "text": [
            "alyson the best\n",
            "6.79\n"
          ]
        }
      ]
    },
    {
      "cell_type": "markdown",
      "source": [
        "type(a + b)"
      ],
      "metadata": {
        "id": "jOv-YW4VPIFg"
      }
    },
    {
      "cell_type": "code",
      "source": [
        "# vou realizar a divisão de 5 por 8\n",
        "print(5/8)\n",
        "# vou realizar a soma de 7 com 8\n",
        "print(7+8)\n",
        "# vou realizar a soma de 5 com 3\n",
        "print(5+3)\n",
        "# vou realizar a subtração de 5 com 3\n",
        "print(5-3)\n",
        "# vou realizar a potenciação de 5 com 3\n",
        "print(5**3)\n",
        "# vou realizar a multiplicação de 5 com 3\n",
        "print(5*3)\n",
        "# vou realizar o resto da divisão de 5 por 3\n",
        "print(5%3)"
      ],
      "metadata": {
        "colab": {
          "base_uri": "https://localhost:8080/"
        },
        "id": "WtJZTdLNQlUK",
        "outputId": "a983c20e-be18-497e-a410-c8da35dda351"
      },
      "execution_count": 5,
      "outputs": [
        {
          "output_type": "stream",
          "name": "stdout",
          "text": [
            "0.625\n",
            "15\n",
            "8\n",
            "2\n",
            "125\n",
            "15\n",
            "2\n"
          ]
        }
      ]
    },
    {
      "cell_type": "code",
      "source": [
        "# operação de juros composto. capital = 100   taxa = 1.1 a.a   tempo = 7 anos\n",
        "j = (100 * 1.1) ** 7\n",
        "print(j)"
      ],
      "metadata": {
        "id": "d8oahgjdSTps",
        "colab": {
          "base_uri": "https://localhost:8080/"
        },
        "outputId": "d401abf8-bba4-478a-edf6-006d27467b32"
      },
      "execution_count": 2,
      "outputs": [
        {
          "output_type": "stream",
          "name": "stdout",
          "text": [
            "194871710000000.2\n"
          ]
        }
      ]
    },
    {
      "cell_type": "code",
      "source": [
        "# soma e multiplicação de duas variáveis, mostrando o tipo de uma variável\n",
        "savings = 100\n",
        "growth_multiplier = 1.1\n",
        "desc = 'compound interest '\n",
        "year1 = savings * growth_multiplier\n",
        "print(type(year1))\n",
        "doubledesc = desc + desc\n",
        "print(doubledesc)"
      ],
      "metadata": {
        "colab": {
          "base_uri": "https://localhost:8080/"
        },
        "id": "oLcLH09pr0ti",
        "outputId": "c0b97df8-d12c-438f-8b87-8cdb1de621d1"
      },
      "execution_count": 4,
      "outputs": [
        {
          "output_type": "stream",
          "name": "stdout",
          "text": [
            "<class 'float'>\n",
            "compound interest compound interest \n"
          ]
        }
      ]
    },
    {
      "cell_type": "markdown",
      "source": [
        "pi_string = '3.1415926'\n",
        "pi_float = float(pi_string)\n",
        "print(type(pi_string))\n",
        "print(type(pi_float))"
      ],
      "metadata": {
        "id": "xKw3sNCWwLPj"
      }
    },
    {
      "cell_type": "code",
      "source": [
        "# Prof: Ache o erro do código abaixo\n",
        "savings = 100\n",
        "result = 100 * 1.10 ** 7\n",
        "print(\"i started with $\" + (savings) + \"and now have $\" + (result) + \"awesome!\")\n",
        "# Resposta: o erro está na tentativa de somar letras com números (linha 3)"
      ],
      "metadata": {
        "colab": {
          "base_uri": "https://localhost:8080/",
          "height": 217
        },
        "id": "TQEFt1Dsx9NZ",
        "outputId": "4c8f1eb6-daf9-4629-99ba-58377d518c55"
      },
      "execution_count": 3,
      "outputs": [
        {
          "output_type": "error",
          "ename": "TypeError",
          "evalue": "ignored",
          "traceback": [
            "\u001b[0;31m---------------------------------------------------------------------------\u001b[0m",
            "\u001b[0;31mTypeError\u001b[0m                                 Traceback (most recent call last)",
            "\u001b[0;32m<ipython-input-3-bd816ab2534b>\u001b[0m in \u001b[0;36m<cell line: 4>\u001b[0;34m()\u001b[0m\n\u001b[1;32m      2\u001b[0m \u001b[0msavings\u001b[0m \u001b[0;34m=\u001b[0m \u001b[0;36m100\u001b[0m\u001b[0;34m\u001b[0m\u001b[0;34m\u001b[0m\u001b[0m\n\u001b[1;32m      3\u001b[0m \u001b[0mresult\u001b[0m \u001b[0;34m=\u001b[0m \u001b[0;36m100\u001b[0m \u001b[0;34m*\u001b[0m \u001b[0;36m1.10\u001b[0m \u001b[0;34m**\u001b[0m \u001b[0;36m7\u001b[0m\u001b[0;34m\u001b[0m\u001b[0;34m\u001b[0m\u001b[0m\n\u001b[0;32m----> 4\u001b[0;31m \u001b[0mprint\u001b[0m\u001b[0;34m(\u001b[0m\u001b[0;34m\"i started with $\"\u001b[0m \u001b[0;34m+\u001b[0m \u001b[0;34m(\u001b[0m\u001b[0msavings\u001b[0m\u001b[0;34m)\u001b[0m \u001b[0;34m+\u001b[0m \u001b[0;34m\"and now have $\"\u001b[0m \u001b[0;34m+\u001b[0m \u001b[0;34m(\u001b[0m\u001b[0mresult\u001b[0m\u001b[0;34m)\u001b[0m \u001b[0;34m+\u001b[0m \u001b[0;34m\"awesome!\"\u001b[0m\u001b[0;34m)\u001b[0m\u001b[0;34m\u001b[0m\u001b[0;34m\u001b[0m\u001b[0m\n\u001b[0m\u001b[1;32m      5\u001b[0m \u001b[0;31m# Resposta: o erro está na tentativa de somar letras com números (linha 3)\u001b[0m\u001b[0;34m\u001b[0m\u001b[0;34m\u001b[0m\u001b[0m\n",
            "\u001b[0;31mTypeError\u001b[0m: can only concatenate str (not \"int\") to str"
          ]
        }
      ]
    }
  ]
}