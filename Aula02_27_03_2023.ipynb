{
  "cells": [
    {
      "cell_type": "code",
      "execution_count": null,
      "metadata": {
        "colab": {
          "base_uri": "https://localhost:8080/"
        },
        "id": "nijuQihy4YzC",
        "outputId": "af2f9a69-4c61-4a0d-d34a-7fc46e46e8b2"
      },
      "outputs": [
        {
          "name": "stdout",
          "output_type": "stream",
          "text": [
            "i started with $100 and now have $194.87171000000012 awesome!\n"
          ]
        }
      ],
      "source": [
        "savings = 100\n",
        "result = 100 * 1.10 ** 7\n",
        "print(\"i started with $\" + str(savings) + \" and now have $\" + str(result) + \" awesome!\")"
      ]
    },
    {
      "cell_type": "code",
      "execution_count": null,
      "metadata": {
        "id": "gWzV-nyp4xRJ"
      },
      "outputs": [],
      "source": [
        "fam = [17,26,27,43]"
      ]
    },
    {
      "cell_type": "code",
      "execution_count": null,
      "metadata": {
        "id": "25J34UkT9fYu"
      },
      "outputs": [],
      "source": [
        "fam2 = [['Rian', 17],\n",
        "        ['Paulo', 26], \n",
        "        ['Daiane', 27], \n",
        "        ['Socorro', 43]]"
      ]
    },
    {
      "cell_type": "code",
      "execution_count": null,
      "metadata": {
        "colab": {
          "base_uri": "https://localhost:8080/"
        },
        "id": "A3J_ZtJr-z8_",
        "outputId": "5d45d452-306a-405e-c533-4c1d2263fb20"
      },
      "outputs": [
        {
          "data": {
            "text/plain": [
              "list"
            ]
          },
          "execution_count": 12,
          "metadata": {},
          "output_type": "execute_result"
        }
      ],
      "source": [
        "type(fam)\n",
        "type(fam2)"
      ]
    },
    {
      "cell_type": "code",
      "execution_count": null,
      "metadata": {
        "colab": {
          "base_uri": "https://localhost:8080/"
        },
        "id": "R17yUrcWAdSi",
        "outputId": "e04a0a15-bb05-4d06-9780-9bb9d424fcf5"
      },
      "outputs": [
        {
          "output_type": "stream",
          "name": "stdout",
          "text": [
            "[14, 18, 20, 10.75, 9.5]\n"
          ]
        }
      ],
      "source": [
        "#area variables (in square meters)\n",
        "hall = 14\n",
        "kit = 18\n",
        "liv = 20\n",
        "bed = 10.75\n",
        "bath = 9.50\n",
        "#lista dos compartimentos com nomes e valores\n",
        "area = [hall, kit, liv, bed, bath]\n",
        "#print  dos compartimentos\n",
        "print(area)"
      ]
    },
    {
      "cell_type": "code",
      "execution_count": null,
      "metadata": {
        "id": "kJWDwqIlBMfl",
        "colab": {
          "base_uri": "https://localhost:8080/"
        },
        "outputId": "0cdf878b-b486-43cf-92dd-53df0a771148"
      },
      "outputs": [
        {
          "output_type": "execute_result",
          "data": {
            "text/plain": [
              "[3, 'aaaaa', 3]"
            ]
          },
          "metadata": {},
          "execution_count": 3
        }
      ],
      "source": [
        "# lista simples com 4 elementos inteiros\n",
        "[1,3,4,2]\n",
        "# lista de listas , comtém 2 listas com 3 elementos inteiros cada uma\n",
        "[[1,2,3],[4,5,7]]\n",
        "# lista com operações, primeiro é a soma de 1 com 2, segundo é uma string \"a\" multiplicada por 5 e terceiro, um inteiro.\n",
        "[1+2,\"a\"*5,3]"
      ]
    },
    {
      "cell_type": "code",
      "source": [
        "# valores da lista area\n",
        "hall = 14.0\n",
        "kitchen = 18.0\n",
        "living= 20.0\n",
        "bedroom = 18.75\n",
        "bathroom = 9.50\n",
        "#lista house\n",
        "house = [[\"hallway\",hall],[\"kitchen\",kitchen],[\"living\",living],[\"bedroom\",bedroom],[\"bathroom\",bathroom]]\n",
        "#print da lista house\n",
        "print(house)"
      ],
      "metadata": {
        "colab": {
          "base_uri": "https://localhost:8080/"
        },
        "id": "MyUm_hdwWRDn",
        "outputId": "6d935b39-0682-40d5-af09-585ff778a025"
      },
      "execution_count": null,
      "outputs": [
        {
          "output_type": "stream",
          "name": "stdout",
          "text": [
            "[['hallway', 14.0], ['kitchen', 18.0], ['living', 20.0], ['bedroom', 18.75], ['bathroom', 9.5]]\n"
          ]
        }
      ]
    },
    {
      "cell_type": "code",
      "source": [
        "#acessando os elementos da lista house\n",
        "house[2]"
      ],
      "metadata": {
        "colab": {
          "base_uri": "https://localhost:8080/"
        },
        "id": "nyKP-cULXA8z",
        "outputId": "e27c2ada-1386-48fb-c710-427b1280c005"
      },
      "execution_count": null,
      "outputs": [
        {
          "output_type": "execute_result",
          "data": {
            "text/plain": [
              "['living', 20.0]"
            ]
          },
          "metadata": {},
          "execution_count": 9
        }
      ]
    },
    {
      "cell_type": "code",
      "source": [
        "#tipo da lista house\n",
        "type(house)"
      ],
      "metadata": {
        "colab": {
          "base_uri": "https://localhost:8080/"
        },
        "id": "hZfPHdmdXOrm",
        "outputId": "94aa426b-8244-48b4-c78b-1a5379f2b5a3"
      },
      "execution_count": null,
      "outputs": [
        {
          "output_type": "execute_result",
          "data": {
            "text/plain": [
              "list"
            ]
          },
          "metadata": {},
          "execution_count": 10
        }
      ]
    },
    {
      "cell_type": "code",
      "source": [
        "areas = [\"hallway\",11.25,\"kitchen\",18,\"living room\",20,\"bedroom\",18.75,\"bathroom\",9.5]\n",
        "#printar segundo elemento\n",
        "areas[1]"
      ],
      "metadata": {
        "colab": {
          "base_uri": "https://localhost:8080/"
        },
        "id": "NOdIlu2hXfg9",
        "outputId": "8847fbf6-6b3e-4279-fe79-4d5ef61c6712"
      },
      "execution_count": null,
      "outputs": [
        {
          "output_type": "execute_result",
          "data": {
            "text/plain": [
              "11.25"
            ]
          },
          "metadata": {},
          "execution_count": 12
        }
      ]
    },
    {
      "cell_type": "code",
      "source": [
        "#printar o último elemento com index negativo\n",
        "areas[-1]"
      ],
      "metadata": {
        "colab": {
          "base_uri": "https://localhost:8080/"
        },
        "id": "1nQfF0nZXt82",
        "outputId": "352090dd-94ee-492c-808d-43d9bb71d2a4"
      },
      "execution_count": null,
      "outputs": [
        {
          "output_type": "execute_result",
          "data": {
            "text/plain": [
              "9.5"
            ]
          },
          "metadata": {},
          "execution_count": 13
        }
      ]
    },
    {
      "cell_type": "code",
      "source": [],
      "metadata": {
        "id": "Cxlx1KVuXzPW"
      },
      "execution_count": null,
      "outputs": []
    }
  ],
  "metadata": {
    "colab": {
      "provenance": []
    },
    "kernelspec": {
      "display_name": "Python 3",
      "name": "python3"
    },
    "language_info": {
      "name": "python"
    }
  },
  "nbformat": 4,
  "nbformat_minor": 0
}