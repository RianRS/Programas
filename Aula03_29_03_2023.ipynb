{
  "nbformat": 4,
  "nbformat_minor": 0,
  "metadata": {
    "colab": {
      "provenance": []
    },
    "kernelspec": {
      "name": "python3",
      "display_name": "Python 3"
    },
    "language_info": {
      "name": "python"
    }
  },
  "cells": [
    {
      "cell_type": "code",
      "execution_count": null,
      "metadata": {
        "id": "CPGwFOIVZ4RR"
      },
      "outputs": [],
      "source": [
        "areas = [\"hallway\",11.25,\"kitchen\",18,\"living room\",20,\"bedroom\",10.75,\"bathroom\",9.5]"
      ]
    },
    {
      "cell_type": "code",
      "source": [
        "# atribuindo à uma variável a soma do sexto elemento da lista area com o oitavo elemento da lista area\n",
        "eat_sleep = areas[5] + areas[7]\n",
        "print(eat_sleep)"
      ],
      "metadata": {
        "colab": {
          "base_uri": "https://localhost:8080/"
        },
        "id": "sOWESPUTtZTn",
        "outputId": "be72666a-d7ed-4b4a-faef-b3aa60726b02"
      },
      "execution_count": null,
      "outputs": [
        {
          "output_type": "stream",
          "name": "stdout",
          "text": [
            "30.75\n"
          ]
        }
      ]
    },
    {
      "cell_type": "code",
      "source": [
        "# acessando os 6 primeiros elementos da lista areas e criando uma nova lista\n",
        "downstairs = areas[0:6]\n",
        "print(downstairs)"
      ],
      "metadata": {
        "colab": {
          "base_uri": "https://localhost:8080/"
        },
        "id": "gStm_J2ttkAe",
        "outputId": "ac420e1b-21ce-4fa3-eb2c-3a62bf8b5976"
      },
      "execution_count": null,
      "outputs": [
        {
          "output_type": "stream",
          "name": "stdout",
          "text": [
            "['hallway', 11.25, 'kitchen', 18, 'living room', 20]\n"
          ]
        }
      ]
    },
    {
      "cell_type": "code",
      "source": [
        "# acessando os 4 ultimos elementos da lista areas e criando uma nova lista\n",
        "upstairs = areas[6:]\n",
        "print(upstairs)"
      ],
      "metadata": {
        "colab": {
          "base_uri": "https://localhost:8080/"
        },
        "id": "gDljxwkKvinx",
        "outputId": "c7b79880-13e1-452d-a9d0-2b401e72547b"
      },
      "execution_count": null,
      "outputs": [
        {
          "output_type": "stream",
          "name": "stdout",
          "text": [
            "['bedroom', 10.75, 'bathroom', 9.5]\n"
          ]
        }
      ]
    },
    {
      "cell_type": "code",
      "source": [
        "x = [['a', 'b', 'c'],\n",
        "     ['d', 'e', 'f'],\n",
        "     ['g', 'h', 'i']]"
      ],
      "metadata": {
        "id": "D1rBDHYqv2hl"
      },
      "execution_count": null,
      "outputs": []
    },
    {
      "cell_type": "code",
      "source": [
        "# acessando valores de uma lista de listas\n",
        "x[2][0]"
      ],
      "metadata": {
        "colab": {
          "base_uri": "https://localhost:8080/",
          "height": 35
        },
        "id": "ar-iq1LlxYIh",
        "outputId": "b48ff9a1-3b14-4898-a66a-2f7d63e4e453"
      },
      "execution_count": null,
      "outputs": [
        {
          "output_type": "execute_result",
          "data": {
            "text/plain": [
              "'g'"
            ],
            "application/vnd.google.colaboratory.intrinsic+json": {
              "type": "string"
            }
          },
          "metadata": {},
          "execution_count": 30
        }
      ]
    },
    {
      "cell_type": "code",
      "source": [
        "x[2][:2]"
      ],
      "metadata": {
        "colab": {
          "base_uri": "https://localhost:8080/"
        },
        "id": "KSQnFn_axcn-",
        "outputId": "a93baa6d-7462-4afd-907d-457df8a2fbf1"
      },
      "execution_count": null,
      "outputs": [
        {
          "output_type": "execute_result",
          "data": {
            "text/plain": [
              "['g', 'h']"
            ]
          },
          "metadata": {},
          "execution_count": 31
        }
      ]
    },
    {
      "cell_type": "code",
      "source": [
        "# valores da lista area\n",
        "hall = 14.0\n",
        "kitchen = 18.0\n",
        "living= 20.0\n",
        "bedroom = 18.75\n",
        "bathroom = 9.50\n",
        "#lista house\n",
        "house = [[\"hallway\",hall],[\"kitchen\",kitchen],[\"living\",living],[\"bedroom\",bedroom],[\"bathroom\",bathroom]]"
      ],
      "metadata": {
        "id": "skQ1GVSxxg8u"
      },
      "execution_count": null,
      "outputs": []
    },
    {
      "cell_type": "code",
      "source": [
        "house[-1][1]"
      ],
      "metadata": {
        "colab": {
          "base_uri": "https://localhost:8080/"
        },
        "id": "VE8ovEkWx80u",
        "outputId": "51259e5e-b802-41ed-e48b-656838de23b4"
      },
      "execution_count": null,
      "outputs": [
        {
          "output_type": "execute_result",
          "data": {
            "text/plain": [
              "9.5"
            ]
          },
          "metadata": {},
          "execution_count": 35
        }
      ]
    },
    {
      "cell_type": "code",
      "source": [
        "# lista de nomes e idades da minha família\n",
        "fam = ['Rian', 17,'Paulo', 26, 'Daiane', 27, 'Socorro', 43]\n",
        "# alterando valores da lista fam\n",
        "fam[7] = 39\n",
        "fam[0:2] = ['Alyne', 31]\n",
        "fam"
      ],
      "metadata": {
        "colab": {
          "base_uri": "https://localhost:8080/"
        },
        "id": "dhi6T8yWyHQl",
        "outputId": "177e3431-f985-40f7-8e8b-31b21fdefaa5"
      },
      "execution_count": null,
      "outputs": [
        {
          "output_type": "execute_result",
          "data": {
            "text/plain": [
              "['Alyne', 31, 'Paulo', 26, 'Daiane', 27, 'Socorro', 39]"
            ]
          },
          "metadata": {},
          "execution_count": 50
        }
      ]
    },
    {
      "cell_type": "code",
      "source": [
        "# ADICIONANDO VALORES À LISTA fam E CRIANDO UMA NOVA LISTA\n",
        "fam_ext = fam + ['Me', 17]\n",
        "fam_ext"
      ],
      "metadata": {
        "colab": {
          "base_uri": "https://localhost:8080/"
        },
        "id": "9NA7oS5E0s8l",
        "outputId": "c26d611d-4447-4957-ccf7-293e8dded509"
      },
      "execution_count": null,
      "outputs": [
        {
          "output_type": "execute_result",
          "data": {
            "text/plain": [
              "['Alyne', 31, 'Paulo', 26, 'Daiane', 27, 'Socorro', 39, 'Me', 17]"
            ]
          },
          "metadata": {},
          "execution_count": 52
        }
      ]
    },
    {
      "cell_type": "code",
      "source": [
        "# DELETANDO VALORES DA LISTA fam\n",
        "del(fam_ext[0:1])\n",
        "fam_ext"
      ],
      "metadata": {
        "colab": {
          "base_uri": "https://localhost:8080/"
        },
        "id": "06_0r3lk13Eu",
        "outputId": "74c700ef-6c25-4c15-cd99-a2c9ca94ef0c"
      },
      "execution_count": null,
      "outputs": [
        {
          "output_type": "execute_result",
          "data": {
            "text/plain": [
              "['Paulo', 26, 'Daiane', 27, 'Socorro', 39, 'Me', 17]"
            ]
          },
          "metadata": {},
          "execution_count": 56
        }
      ]
    },
    {
      "cell_type": "code",
      "source": [
        "# ATRIBUINDO UMA LISTA À MAIS DE UMA VARIÁVEL, TAL QUAL MODIFICAR UMA, TAMBÉM MODIFICA A OUTRA\n",
        "X = ['A', 'B', 'C']\n",
        "y = X\n",
        "y[1] = 'Z'\n",
        "y"
      ],
      "metadata": {
        "colab": {
          "base_uri": "https://localhost:8080/"
        },
        "id": "4FvcWJeA2PLW",
        "outputId": "0cac630e-a298-4b7f-ca75-bd780818bdef"
      },
      "execution_count": null,
      "outputs": [
        {
          "output_type": "execute_result",
          "data": {
            "text/plain": [
              "['A', 'Z', 'C']"
            ]
          },
          "metadata": {},
          "execution_count": 62
        }
      ]
    },
    {
      "cell_type": "code",
      "source": [
        "# ATRIBUINDO O VALOR DE UMA LISTA À OUTRA VARIÁVEL, MAS PODENDO MODIFICÁ-LAS SEPARADAMENTE\n",
        "y = list(X)\n",
        "y"
      ],
      "metadata": {
        "colab": {
          "base_uri": "https://localhost:8080/"
        },
        "id": "BjL0gKM14qkn",
        "outputId": "68cfd779-6053-44f3-f303-e2c5e88892d1"
      },
      "execution_count": null,
      "outputs": [
        {
          "output_type": "execute_result",
          "data": {
            "text/plain": [
              "['A', 'Z', 'C']"
            ]
          },
          "metadata": {},
          "execution_count": 63
        }
      ]
    },
    {
      "cell_type": "code",
      "source": [
        "y = X[:]\n",
        "y"
      ],
      "metadata": {
        "colab": {
          "base_uri": "https://localhost:8080/"
        },
        "id": "ssmiKNqf5fMn",
        "outputId": "56a13aba-200e-417b-c136-195e18917df2"
      },
      "execution_count": null,
      "outputs": [
        {
          "output_type": "execute_result",
          "data": {
            "text/plain": [
              "['A', 'Z', 'C']"
            ]
          },
          "metadata": {},
          "execution_count": 65
        }
      ]
    },
    {
      "cell_type": "code",
      "source": [
        "y[1] = 'W'\n",
        "y"
      ],
      "metadata": {
        "colab": {
          "base_uri": "https://localhost:8080/"
        },
        "id": "DPS8qEcj5xQ-",
        "outputId": "11e87d3f-9f01-4e32-ac58-b48cbea0a0b7"
      },
      "execution_count": null,
      "outputs": [
        {
          "output_type": "execute_result",
          "data": {
            "text/plain": [
              "['A', 'W', 'C']"
            ]
          },
          "metadata": {},
          "execution_count": 66
        }
      ]
    },
    {
      "cell_type": "code",
      "source": [
        "X"
      ],
      "metadata": {
        "colab": {
          "base_uri": "https://localhost:8080/"
        },
        "id": "sIFPg5xT57VW",
        "outputId": "69fa9c80-2eb4-40d7-cf21-ed46016bdc27"
      },
      "execution_count": null,
      "outputs": [
        {
          "output_type": "execute_result",
          "data": {
            "text/plain": [
              "['A', 'Z', 'C']"
            ]
          },
          "metadata": {},
          "execution_count": 68
        }
      ]
    },
    {
      "cell_type": "code",
      "source": [
        "# MODIFICANDO VALORES DA LISTA areas\n",
        "areas[9] = 10.5\n",
        "areas"
      ],
      "metadata": {
        "colab": {
          "base_uri": "https://localhost:8080/"
        },
        "id": "1smlMIDC58TW",
        "outputId": "66f87350-3e78-40b1-c8b4-b3b2315549f9"
      },
      "execution_count": null,
      "outputs": [
        {
          "output_type": "execute_result",
          "data": {
            "text/plain": [
              "['hallway',\n",
              " 11.25,\n",
              " 'kitchen',\n",
              " 18,\n",
              " 'living room',\n",
              " 20,\n",
              " 'bedroom',\n",
              " 10.75,\n",
              " 'bathroom',\n",
              " 10.5]"
            ]
          },
          "metadata": {},
          "execution_count": 69
        }
      ]
    },
    {
      "cell_type": "code",
      "source": [
        "# MODIFICANDO STR DA LISTA areas\n",
        "areas[4] = 'chill zone'\n",
        "areas"
      ],
      "metadata": {
        "colab": {
          "base_uri": "https://localhost:8080/"
        },
        "id": "3_-FeVIw6m3f",
        "outputId": "02bc5d86-1561-4b0a-f5f6-478fa66d23f4"
      },
      "execution_count": null,
      "outputs": [
        {
          "output_type": "execute_result",
          "data": {
            "text/plain": [
              "['hallway',\n",
              " 11.25,\n",
              " 'kitchen',\n",
              " 18,\n",
              " 'chill zone',\n",
              " 20,\n",
              " 'bedroom',\n",
              " 10.75,\n",
              " 'bathroom',\n",
              " 10.5]"
            ]
          },
          "metadata": {},
          "execution_count": 71
        }
      ]
    },
    {
      "cell_type": "code",
      "source": [
        "areas_1 = [areas] + ['poolhouse', 24.5]\n",
        "areas_1"
      ],
      "metadata": {
        "id": "hkg1S-qQ6xnm",
        "colab": {
          "base_uri": "https://localhost:8080/"
        },
        "outputId": "f7d48447-4a54-4362-edff-81188e2227f3"
      },
      "execution_count": null,
      "outputs": [
        {
          "output_type": "execute_result",
          "data": {
            "text/plain": [
              "[['hallway',\n",
              "  11.25,\n",
              "  'kitchen',\n",
              "  18,\n",
              "  'living room',\n",
              "  20,\n",
              "  'bedroom',\n",
              "  10.75,\n",
              "  'bathroom',\n",
              "  9.5],\n",
              " 'poolhouse',\n",
              " 24.5]"
            ]
          },
          "metadata": {},
          "execution_count": 4
        }
      ]
    },
    {
      "cell_type": "code",
      "source": [
        "areas_2 = [areas_1] + ['garage', 15.5]\n",
        "areas_2"
      ],
      "metadata": {
        "colab": {
          "base_uri": "https://localhost:8080/"
        },
        "id": "43I_p9V1Okts",
        "outputId": "361ae2e1-33f5-44b2-f3b2-0d9407de3e11"
      },
      "execution_count": null,
      "outputs": [
        {
          "output_type": "execute_result",
          "data": {
            "text/plain": [
              "[[['hallway',\n",
              "   11.25,\n",
              "   'kitchen',\n",
              "   18,\n",
              "   'living room',\n",
              "   20,\n",
              "   'bedroom',\n",
              "   10.75,\n",
              "   'bathroom',\n",
              "   9.5],\n",
              "  'poolhouse',\n",
              "  24.5],\n",
              " 'garage',\n",
              " 15.5]"
            ]
          },
          "metadata": {},
          "execution_count": 5
        }
      ]
    },
    {
      "cell_type": "code",
      "source": [
        "# crie uma lista areas_copy\n",
        "areas_copy = areas\n",
        "# mude areas_copy\n",
        "areas_copy[0] = 5\n",
        "areas"
      ],
      "metadata": {
        "colab": {
          "base_uri": "https://localhost:8080/"
        },
        "id": "FpG5zWtqPM3Q",
        "outputId": "3e3b1cc6-2b75-4b39-e81d-01e33dbee852"
      },
      "execution_count": null,
      "outputs": [
        {
          "output_type": "execute_result",
          "data": {
            "text/plain": [
              "[5, 11.25, 'kitchen', 18, 'living room', 20, 'bedroom', 10.75, 'bathroom', 9.5]"
            ]
          },
          "metadata": {},
          "execution_count": 6
        }
      ]
    },
    {
      "cell_type": "code",
      "source": [
        "# voltando ao valor original da lista area\n",
        "areas[0] = 'hallway'"
      ],
      "metadata": {
        "id": "bcxYY9ZxPsrs"
      },
      "execution_count": null,
      "outputs": []
    },
    {
      "cell_type": "code",
      "source": [
        "# corrigindo o codigo de areas_copy\n",
        "areas_copy = list(areas)\n",
        "areas_copy[0] = 'sadroom'\n",
        "areas_copy"
      ],
      "metadata": {
        "colab": {
          "base_uri": "https://localhost:8080/"
        },
        "id": "WaH1MQcuQGQ2",
        "outputId": "700e1516-a091-4183-810f-61c538ef91ba"
      },
      "execution_count": null,
      "outputs": [
        {
          "output_type": "execute_result",
          "data": {
            "text/plain": [
              "['sadroom',\n",
              " 11.25,\n",
              " 'kitchen',\n",
              " 18,\n",
              " 'living room',\n",
              " 20,\n",
              " 'bedroom',\n",
              " 10.75,\n",
              " 'bathroom',\n",
              " 9.5]"
            ]
          },
          "metadata": {},
          "execution_count": 11
        }
      ]
    },
    {
      "cell_type": "code",
      "source": [
        "areas"
      ],
      "metadata": {
        "colab": {
          "base_uri": "https://localhost:8080/"
        },
        "id": "1BV9pXs5Qa92",
        "outputId": "6985a370-75ad-4db9-8fb7-0292774b1a83"
      },
      "execution_count": null,
      "outputs": [
        {
          "output_type": "execute_result",
          "data": {
            "text/plain": [
              "['hallway',\n",
              " 11.25,\n",
              " 'kitchen',\n",
              " 18,\n",
              " 'living room',\n",
              " 20,\n",
              " 'bedroom',\n",
              " 10.75,\n",
              " 'bathroom',\n",
              " 9.5]"
            ]
          },
          "metadata": {},
          "execution_count": 12
        }
      ]
    },
    {
      "cell_type": "code",
      "source": [],
      "metadata": {
        "id": "NlRfNu78Q6mY"
      },
      "execution_count": null,
      "outputs": []
    }
  ]
}